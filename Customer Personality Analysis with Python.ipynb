{
 "cells": [
  {
   "cell_type": "code",
   "execution_count": null,
   "metadata": {},
   "outputs": [],
   "source": [
    "import numpy as np\n",
    "import pandas as pd\n",
    "import datetime\n",
    "from datetime import date\n",
    "import matplotlib\n",
    "import seaborn as sns\n",
    "import matplotlib.pyplot as plt\n",
    "import plotly.graph_objects as go\n",
    "from sklearn.preprocessing import StandardScaler, normalize\n",
    "from sklearn import metrics\n",
    "from sklearn.mixture import GaussianMixture\n",
    "from mlxtend.frequent_patterns import apriori\n",
    "from mlxtend.frequent_patterns import association_rules\n",
    "import warnings\n",
    "warnings.filterwarnings('ignore')\n",
    "data=pd.read_csv('marketing_campaign.csv',header=0,sep=';')"
   ]
  },
  {
   "cell_type": "code",
   "execution_count": null,
   "metadata": {},
   "outputs": [],
   "source": [
    "from dataprep.eda import plot, plot_correlation, create_report, plot_missing\n",
    "plot(data)"
   ]
  },
  {
   "cell_type": "code",
   "execution_count": null,
   "metadata": {},
   "outputs": [],
   "source": [
    "#Now I will create some new features in the dataset to define the customer personalities as a part of data preparation:\n",
    "\n",
    "#Spending variable creation\n",
    "data['Age']=2014-data['Year_Birth']\n",
    "\n",
    "data['Spending']=data['MntWines']+data['MntFruits']+data['MntMeatProducts']+data['MntFishProducts']+data['MntSweetProducts']+data['MntGoldProds']\n",
    "#Seniority variable creation\n",
    "last_date = date(2014,10, 4)\n",
    "data['Seniority']=pd.to_datetime(data['Dt_Customer'], dayfirst=True,format = '%Y-%m-%d')\n",
    "data['Seniority'] = pd.to_numeric(data['Seniority'].dt.date.apply(lambda x: (last_date - x)).dt.days, downcast='integer')/30\n",
    "data=data.rename(columns={'NumWebPurchases': \"Web\",'NumCatalogPurchases':'Catalog','NumStorePurchases':'Store'})\n",
    "data['Marital_Status']=data['Marital_Status'].replace({'Divorced':'Alone','Single':'Alone','Married':'In couple','Together':'In couple','Absurd':'Alone','Widow':'Alone','YOLO':'Alone'})\n",
    "data['Education']=data['Education'].replace({'Basic':'Undergraduate','2n Cycle':'Undergraduate','Graduation':'Postgraduate','Master':'Postgraduate','PhD':'Postgraduate'})\n",
    "\n",
    "data['Children']=data['Kidhome']+data['Teenhome']\n",
    "data['Has_child'] = np.where(data.Children> 0, 'Has child', 'No child')\n",
    "data['Children'].replace({3: \"3 children\",2:'2 children',1:'1 child',0:\"No child\"},inplace=True)\n",
    "data=data.rename(columns={'MntWines': \"Wines\",'MntFruits':'Fruits','MntMeatProducts':'Meat','MntFishProducts':'Fish','MntSweetProducts':'Sweets','MntGoldProds':'Gold'})\n",
    "\n",
    "\n",
    "data=data[['Age','Education','Marital_Status','Income','Spending','Seniority','Has_child','Children','Wines','Fruits','Meat','Fish','Sweets','Gold']]\n",
    "data.head()"
   ]
  },
  {
   "cell_type": "code",
   "execution_count": null,
   "metadata": {},
   "outputs": [],
   "source": [
    "# Now I will remove the outliers and the missing values in the dataset:\n",
    "data=data.dropna(subset=['Income'])\n",
    "data=data[data['Income']<600000]"
   ]
  },
  {
   "cell_type": "code",
   "execution_count": null,
   "metadata": {},
   "outputs": [],
   "source": [
    "scaler=StandardScaler()\n",
    "dataset_temp=data[['Income','Seniority','Spending']]\n",
    "X_std=scaler.fit_transform(dataset_temp)\n",
    "X = normalize(X_std,norm='l2')\n",
    "\n",
    "gmm=GaussianMixture(n_components=4, covariance_type='spherical',max_iter=2000, random_state=5).fit(X)\n",
    "labels = gmm.predict(X)\n",
    "dataset_temp['Cluster'] = labels\n",
    "dataset_temp=dataset_temp.replace({0:'Stars',1:'Need attention',2:'High potential',3:'Leaky bucket'})\n",
    "data = data.merge(dataset_temp.Cluster, left_index=True, right_index=True)\n",
    "\n",
    "pd.options.display.float_format = \"{:.0f}\".format\n",
    "summary=data[['Income','Spending','Seniority','Cluster']]\n",
    "summary.set_index(\"Cluster\", inplace = True)\n",
    "summary=summary.groupby('Cluster').describe().transpose()\n",
    "summary.head()"
   ]
  },
  {
   "cell_type": "code",
   "execution_count": null,
   "metadata": {},
   "outputs": [],
   "source": [
    "PLOT = go.Figure()\n",
    "for C in list(data.Cluster.unique()):\n",
    "    \n",
    "\n",
    "    PLOT.add_trace(go.Scatter3d(x = data[data.Cluster == C]['Income'],\n",
    "                                y = data[data.Cluster == C]['Seniority'],\n",
    "                                z = data[data.Cluster == C]['Spending'],                        \n",
    "                                mode = 'markers',marker_size = 6, marker_line_width = 1,\n",
    "                                name = str(C)))\n",
    "PLOT.update_traces(hovertemplate='Income: %{x} <br>Seniority: %{y} <br>Spending: %{z}')\n",
    "\n",
    "    \n",
    "PLOT.update_layout(width = 800, height = 800, autosize = True, showlegend = True,\n",
    "                   scene = dict(xaxis=dict(title = 'Income', titlefont_color = 'black'),\n",
    "                                yaxis=dict(title = 'Seniority', titlefont_color = 'black'),\n",
    "                                zaxis=dict(title = 'Spending', titlefont_color = 'black')),\n",
    "                   font = dict(family = \"Gilroy\", color  = 'black', size = 12))"
   ]
  },
  {
   "cell_type": "code",
   "execution_count": null,
   "metadata": {},
   "outputs": [],
   "source": [
    "\n",
    "#Create Age segment\n",
    "cut_labels_Age = ['Young', 'Adult', 'Mature', 'Senior']\n",
    "cut_bins = [0, 30, 45, 65, 120]\n",
    "data['Age_group'] = pd.cut(data['Age'], bins=cut_bins, labels=cut_labels_Age)\n",
    "#Create Income segment\n",
    "cut_labels_Income = ['Low income', 'Low to medium income', 'Medium to high income', 'High income']\n",
    "data['Income_group'] = pd.qcut(data['Income'], q=4, labels=cut_labels_Income)\n",
    "#Create Seniority segment\n",
    "cut_labels_Seniority = ['New customers', 'Discovering customers', 'Experienced customers', 'Old customers']\n",
    "data['Seniority_group'] = pd.qcut(data['Seniority'], q=4, labels=cut_labels_Seniority)\n",
    "data=data.drop(columns=['Age','Income','Seniority'])"
   ]
  },
  {
   "cell_type": "code",
   "execution_count": null,
   "metadata": {},
   "outputs": [],
   "source": [
    "cut_labels = ['Low consumer', 'Frequent consumer', 'Biggest consumer']\n",
    "data['Wines_segment'] = pd.qcut(data['Wines'][data['Wines']>0],q=[0, .25, .75, 1], labels=cut_labels).astype(\"object\")\n",
    "data['Fruits_segment'] = pd.qcut(data['Fruits'][data['Fruits']>0],q=[0, .25, .75, 1], labels=cut_labels).astype(\"object\")\n",
    "data['Meat_segment'] = pd.qcut(data['Meat'][data['Meat']>0],q=[0, .25, .75, 1], labels=cut_labels).astype(\"object\")\n",
    "data['Fish_segment'] = pd.qcut(data['Fish'][data['Fish']>0],q=[0, .25, .75, 1], labels=cut_labels).astype(\"object\")\n",
    "data['Sweets_segment'] = pd.qcut(data['Sweets'][data['Sweets']>0],q=[0, .25, .75, 1], labels=cut_labels).astype(\"object\")\n",
    "data['Gold_segment'] = pd.qcut(data['Gold'][data['Gold']>0],q=[0, .25, .75, 1], labels=cut_labels).astype(\"object\")\n",
    "data.replace(np.nan, \"Non consumer\",inplace=True)\n",
    "data.drop(columns=['Spending','Wines','Fruits','Meat','Fish','Sweets','Gold'],inplace=True)\n",
    "data = data.astype(object)"
   ]
  },
  {
   "cell_type": "code",
   "execution_count": null,
   "metadata": {},
   "outputs": [],
   "source": [
    "pd.set_option('display.max_columns', None)\n",
    "pd.set_option('display.max_rows', None)\n",
    "pd.set_option('display.max_colwidth', 999)\n",
    "pd.options.display.float_format = \"{:.3f}\".format\n",
    "association=data.copy() \n",
    "df = pd.get_dummies(association)\n",
    "min_support = 0.08\n",
    "max_len = 10\n",
    "frequent_items = apriori(df, use_colnames=True, min_support=min_support, max_len=max_len + 1)\n",
    "rules = association_rules(frequent_items, metric='lift', min_threshold=1)\n",
    "\n",
    "product='Wines'\n",
    "segment='Biggest consumer'\n",
    "target = '{\\'%s_segment_%s\\'}' %(product,segment)\n",
    "results_personnal_care = rules[rules['consequents'].astype(str).str.contains(target, na=False)].sort_values(by='confidence', ascending=False)\n",
    "results_personnal_care.head()"
   ]
  }
 ],
 "metadata": {
  "kernelspec": {
   "display_name": "Python 3 (ipykernel)",
   "language": "python",
   "name": "python3"
  },
  "language_info": {
   "codemirror_mode": {
    "name": "ipython",
    "version": 3
   },
   "file_extension": ".py",
   "mimetype": "text/x-python",
   "name": "python",
   "nbconvert_exporter": "python",
   "pygments_lexer": "ipython3",
   "version": "3.9.7"
  }
 },
 "nbformat": 4,
 "nbformat_minor": 4
}
